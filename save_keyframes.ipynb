{
 "cells": [
  {
   "cell_type": "code",
   "execution_count": 1,
   "metadata": {},
   "outputs": [],
   "source": [
    "import cv2\n",
    "import numpy as np\n",
    "import os\n",
    "from pathlib import Path\n",
    "from PIL import Image\n"
   ]
  },
  {
   "cell_type": "code",
   "execution_count": 2,
   "metadata": {},
   "outputs": [],
   "source": [
    "def get_frame_as_pil(path_to_video, frame_index):\n",
    "    # Create video capture object\n",
    "    cap = cv2.VideoCapture(path_to_video)\n",
    "    \n",
    "    # Get total number of frames\n",
    "    total_frames = int(cap.get(cv2.CAP_PROP_FRAME_COUNT))\n",
    "    \n",
    "    # Check if frame_index is valid\n",
    "    if frame_index >= total_frames:\n",
    "        print(f\"Error: Frame index {frame_index} is out of range. Video has {total_frames} frames.\")\n",
    "        cap.release()\n",
    "        return None\n",
    "    \n",
    "    # Set the frame position\n",
    "    cap.set(cv2.CAP_PROP_POS_FRAMES, frame_index)\n",
    "    \n",
    "    # Read the frame\n",
    "    ret, frame = cap.read()\n",
    "    \n",
    "    # Release the video capture\n",
    "    cap.release()\n",
    "    \n",
    "    if ret:\n",
    "        # Convert BGR to RGB\n",
    "        frame_rgb = cv2.cvtColor(frame, cv2.COLOR_BGR2RGB)\n",
    "        # Convert to PIL Image\n",
    "        pil_image = Image.fromarray(frame_rgb)\n",
    "        return pil_image\n",
    "    else:\n",
    "        print(f\"Error: Could not read frame {frame_index}\")\n",
    "        return None\n",
    "\n",
    "def save_pil_image(pil_image, path_to_save):\n",
    "    pil_image.save(path_to_save)\n"
   ]
  },
  {
   "cell_type": "code",
   "execution_count": 3,
   "metadata": {},
   "outputs": [],
   "source": [
    "video_dir = '/Users/christopherwatson/Documents/ML/pi0_transitions/stack_blocks/perfect'\n"
   ]
  },
  {
   "cell_type": "code",
   "execution_count": 21,
   "metadata": {},
   "outputs": [],
   "source": [
    "get_frame_as_pil(Path(video_dir) / 'pick_up_the_blue_block.mp4', 160)"
   ]
  },
  {
   "cell_type": "code",
   "execution_count": 22,
   "metadata": {},
   "outputs": [],
   "source": [
    "#img.save(Path(video_dir) / 'pick_up_the_blue_block_LIFTING.jpg')"
   ]
  }
 ],
 "metadata": {
  "kernelspec": {
   "display_name": "vlmx",
   "language": "python",
   "name": "python3"
  },
  "language_info": {
   "codemirror_mode": {
    "name": "ipython",
    "version": 3
   },
   "file_extension": ".py",
   "mimetype": "text/x-python",
   "name": "python",
   "nbconvert_exporter": "python",
   "pygments_lexer": "ipython3",
   "version": "3.10.16"
  }
 },
 "nbformat": 4,
 "nbformat_minor": 2
}
