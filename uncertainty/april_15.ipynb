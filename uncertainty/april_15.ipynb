{
 "cells": [
  {
   "cell_type": "code",
   "execution_count": 2,
   "metadata": {},
   "outputs": [],
   "source": [
    "from uncertainty.ucb_graph import GraphCUCBPlanner\n"
   ]
  },
  {
   "cell_type": "code",
   "execution_count": 3,
   "metadata": {},
   "outputs": [
    {
     "name": "stdout",
     "output_type": "stream",
     "text": [
      "all paths:\n",
      "Path: ['START', 'HOLDING BLUE BLOCK', 'STACK OF TWO', 'HOLDING GREEN BLOCK', 'TOWER COMPLETE'], Estimated success: 1.000\n",
      "Most optimistic sink paths:\n",
      "Path: ['START', 'HOLDING BLUE BLOCK', 'STACK OF TWO', 'HOLDING GREEN BLOCK', 'TOWER COMPLETE'], Estimated success: 1.000\n"
     ]
    }
   ],
   "source": [
    "delta = 0.9\n",
    "planner = GraphCUCBPlanner(delta=delta)\n",
    "planner.add_edge(\"START\", \"HOLDING BLUE BLOCK\", \"pick blue 1\")\n",
    "planner.add_edge(\"HOLDING BLUE BLOCK\", \"STACK OF TWO\", \"blue on red 2\")\n",
    "planner.add_edge(\"STACK OF TWO\", \"HOLDING GREEN BLOCK\", \"pick green 3\")\n",
    "planner.add_edge(\"HOLDING GREEN BLOCK\", \"TOWER COMPLETE\", \"green on blue 4\")\n",
    "results_dict = {\n",
    "    \"pick blue 1\": (0, 0),\n",
    "    \"blue on red 2\": (0, 0),\n",
    "    \"pick green 3\": (0, 0),\n",
    "    \"green on blue 4\": (0, 0)\n",
    "}\n",
    "start_node = \"START\"\n",
    "print(\"all paths:\")\n",
    "for path, estimated_success in planner.compute_estimated_success_all_sink_paths(start_node):\n",
    "    print(f\"Path: {path}, Estimated success: {estimated_success:.3f}\")\n",
    "print(\"Most optimistic sink paths:\")\n",
    "for path, estimated_success in planner.most_optimistic_sink_paths(start_node, slack=0.0001):\n",
    "    print(f\"Path: {path}, Estimated success: {estimated_success:.3f}\")\n"
   ]
  },
  {
   "cell_type": "code",
   "execution_count": null,
   "metadata": {},
   "outputs": [],
   "source": []
  }
 ],
 "metadata": {
  "kernelspec": {
   "display_name": "vlmx",
   "language": "python",
   "name": "python3"
  },
  "language_info": {
   "codemirror_mode": {
    "name": "ipython",
    "version": 3
   },
   "file_extension": ".py",
   "mimetype": "text/x-python",
   "name": "python",
   "nbconvert_exporter": "python",
   "pygments_lexer": "ipython3",
   "version": "3.10.16"
  }
 },
 "nbformat": 4,
 "nbformat_minor": 2
}
